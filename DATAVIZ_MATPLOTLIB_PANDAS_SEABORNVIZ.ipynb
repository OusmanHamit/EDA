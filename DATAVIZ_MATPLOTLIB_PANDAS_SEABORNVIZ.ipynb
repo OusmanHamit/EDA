{
 "cells": [
  {
   "attachments": {},
   "cell_type": "markdown",
   "metadata": {},
   "source": [
    "---"
   ]
  },
  {
   "attachments": {},
   "cell_type": "markdown",
   "metadata": {},
   "source": [
    "https://colab.research.google.com/github/OusmanHamit/EDA/blob/main/DATAVIZ_MATPLOTLIB_PANDAS_SEABORNVIZ.ipynb"
   ]
  },
  {
   "cell_type": "code",
   "execution_count": null,
   "metadata": {},
   "outputs": [],
   "source": [
    "import seaborn as sns\n",
    "import numpy as np\n",
    "import pandas as pd\n",
    "import matplotlib.pyplot as plt"
   ]
  },
  {
   "cell_type": "code",
   "execution_count": null,
   "metadata": {},
   "outputs": [],
   "source": [
    "sns.set()"
   ]
  },
  {
   "attachments": {},
   "cell_type": "markdown",
   "metadata": {},
   "source": [
    "---\n",
    "Datasets"
   ]
  },
  {
   "cell_type": "code",
   "execution_count": null,
   "metadata": {},
   "outputs": [],
   "source": [
    "penguins = sns.load_dataset(\"penguins\")\n",
    "tips = sns.load_dataset(\"tips\")\n",
    "titanic = sns.load_dataset(\"titanic\")"
   ]
  },
  {
   "attachments": {},
   "cell_type": "markdown",
   "metadata": {},
   "source": [
    "---\n",
    "PANDAS\n",
    "- **plot**\n",
    "  - kind(hist[bins, fontsize], kde, box, bar)\n",
    "\n",
    "- plot.scatter(x, y, colormap)\n",
    "\n",
    "- Generalisation\n",
    "\n",
    "- plotting.scatter_matrix(figsize, diagonal, alpha)\n"
   ]
  },
  {
   "cell_type": "code",
   "execution_count": null,
   "metadata": {},
   "outputs": [],
   "source": [
    "titanic.plot(kind = 'hist');"
   ]
  },
  {
   "cell_type": "code",
   "execution_count": null,
   "metadata": {},
   "outputs": [],
   "source": [
    "titanic[titanic.select_dtypes(include = 'int').columns].plot(kind = 'hist');"
   ]
  },
  {
   "cell_type": "code",
   "execution_count": null,
   "metadata": {},
   "outputs": [],
   "source": [
    "titanic[titanic.select_dtypes(include = 'float').columns].plot(kind = 'hist');"
   ]
  },
  {
   "cell_type": "code",
   "execution_count": null,
   "metadata": {},
   "outputs": [],
   "source": [
    "titanic[titanic.select_dtypes(include = 'float').columns].plot(kind = 'kde');"
   ]
  },
  {
   "cell_type": "code",
   "execution_count": null,
   "metadata": {},
   "outputs": [],
   "source": [
    "titanic[['age', 'fare']].hist();   # bins"
   ]
  },
  {
   "cell_type": "code",
   "execution_count": null,
   "metadata": {},
   "outputs": [],
   "source": [
    "titanic.boxplot();\n"
   ]
  },
  {
   "cell_type": "code",
   "execution_count": null,
   "metadata": {},
   "outputs": [],
   "source": [
    "titanic[['age', 'fare']].boxplot();"
   ]
  },
  {
   "cell_type": "code",
   "execution_count": null,
   "metadata": {},
   "outputs": [],
   "source": [
    "ax = titanic['sex'].value_counts() \\\n",
    "    .plot(kind = 'bar', title = 'barplot')\n",
    "ax.set_xlabel('genre')\n",
    "ax.set_ylabel('count')"
   ]
  },
  {
   "attachments": {},
   "cell_type": "markdown",
   "metadata": {},
   "source": [
    "Pour bien comprendre et personnaliser les diagrammes en barres:\n",
    "\n",
    "Lien https://youtu.be/Rd8Qz342GuE"
   ]
  },
  {
   "cell_type": "code",
   "execution_count": null,
   "metadata": {},
   "outputs": [],
   "source": [
    "titanic['sex'].value_counts().plot(kind = 'pie', title = 'pie chart');  # titanic.[['sex', 'class']]"
   ]
  },
  {
   "attachments": {},
   "cell_type": "markdown",
   "metadata": {},
   "source": [
    "Pour bien comprendre et personnaliser le graphique circulaire:\n",
    "\n",
    "- lien https://youtu.be/PgqKeBLem-g"
   ]
  },
  {
   "attachments": {},
   "cell_type": "markdown",
   "metadata": {},
   "source": [
    "---\n",
    "pd.plotting.scatter_matrix(data)\n",
    "\n",
    "- figsize = (15, 8)\n",
    "- diagonal = 'hist' "
   ]
  },
  {
   "cell_type": "code",
   "execution_count": null,
   "metadata": {},
   "outputs": [],
   "source": [
    "pd.plotting.scatter_matrix(penguins)\n",
    "plt.show()"
   ]
  },
  {
   "attachments": {},
   "cell_type": "markdown",
   "metadata": {},
   "source": [
    "---\n",
    "**Plot**\n",
    "\n",
    "Generalsation de l'univariee - pandas"
   ]
  },
  {
   "cell_type": "code",
   "execution_count": null,
   "metadata": {},
   "outputs": [],
   "source": [
    "numcols = titanic.select_dtypes(include = ['number']).columns\n",
    "fig, axes = plt.subplots(nrows = 3, ncols = 3, figsize = (15, 15))\n",
    "k = 0\n",
    "for i in range(len(axes)):\n",
    "    for j in range(len(axes[i])):\n",
    "        if k == len(numcols):\n",
    "            break\n",
    "        ax = axes[i][j]\n",
    "        titanic[[numcols[k]]].plot(ax = ax, kind = 'hist', fontsize = 12)\n",
    "        k += 1"
   ]
  },
  {
   "attachments": {},
   "cell_type": "markdown",
   "metadata": {},
   "source": [
    "---\n",
    "SEABORN\n",
    "- pairplot\n",
    "- heatmap\n",
    "- clustermap\n",
    "- catplot\n",
    "- scatterplot\n",
    "- histplot\n",
    "- boxplot\n",
    "- relplot\n",
    "- countplot\n",
    "- barplot(nominales ou ordinales)\n",
    "- pie(ordinales)\n",
    "- kdeplot\n",
    "\n",
    "---\n",
    "\n",
    "1. plt.tight_layout(pad = 0.2, w_pad = 0.3, h_pad = 3.0)\n",
    "2. plt.xlabel(colname[1], loc = 'center', rotation = 35)   <= pour univariee seulement\n",
    "3. def mygraphics(df, rows = 3, cols = 3)\n",
    "4. sns.boxplot(x = df['payment'], y = colname[1], data = df)\n",
    "5. plt.savefig('diagram.png')\n"
   ]
  },
  {
   "attachments": {},
   "cell_type": "markdown",
   "metadata": {},
   "source": [
    "---\n",
    "- pairplot\n",
    "    - hue, height, diag_kind, kind, corner"
   ]
  },
  {
   "cell_type": "code",
   "execution_count": null,
   "metadata": {},
   "outputs": [],
   "source": [
    "penguins.head(3)"
   ]
  },
  {
   "cell_type": "code",
   "execution_count": null,
   "metadata": {},
   "outputs": [],
   "source": []
  },
  {
   "cell_type": "code",
   "execution_count": null,
   "metadata": {},
   "outputs": [],
   "source": []
  },
  {
   "cell_type": "code",
   "execution_count": null,
   "metadata": {},
   "outputs": [],
   "source": []
  },
  {
   "cell_type": "code",
   "execution_count": null,
   "metadata": {},
   "outputs": [],
   "source": [
    "sns.pairplot(penguins,\n",
    "            x_vars = [\"bill_length_mm\", \"bill_depth_mm\", \"flipper_length_mm\"],\n",
    "            y_vars = [\"bill_length_mm\", \"bill_depth_mm\"]);"
   ]
  },
  {
   "cell_type": "code",
   "execution_count": null,
   "metadata": {},
   "outputs": [],
   "source": [
    "sns.pairplot(penguins,\n",
    "            x_vars = [\"bill_length_mm\", \"bill_depth_mm\", \"flipper_length_mm\"],\n",
    "            y_vars = [\"bill_length_mm\", \"bill_depth_mm\"], hue = 'sex');"
   ]
  },
  {
   "attachments": {},
   "cell_type": "markdown",
   "metadata": {},
   "source": [
    "---\n",
    "- heatmap"
   ]
  },
  {
   "cell_type": "code",
   "execution_count": null,
   "metadata": {},
   "outputs": [],
   "source": [
    "def correlations(df):\n",
    "    plt.figure(figsize=(6, 4))\n",
    "    sns.heatmap(df.select_dtypes(['number']).corr().round(2),\n",
    "                annot = True, \n",
    "                cmap = 'coolwarm', \n",
    "                cbar = True, \n",
    "                annot_kws = {'fontsize': 10},\n",
    "                vmin = -1,\n",
    "                vmax = 1,\n",
    "                lw = .1,\n",
    "                # mask = np.triu(np.ones_like(df.select_dtypes(['number']).corr()))\n",
    "            )\n",
    "    plt.title(\"Matrice de correlation\")\n",
    "    plt.savefig('heatmap.png')\n",
    "    plt.show()"
   ]
  },
  {
   "cell_type": "code",
   "execution_count": null,
   "metadata": {},
   "outputs": [],
   "source": [
    "correlations(titanic)"
   ]
  },
  {
   "attachments": {},
   "cell_type": "markdown",
   "metadata": {},
   "source": [
    "---\n",
    "- Matrice de correlation sans triangle superieur"
   ]
  },
  {
   "cell_type": "code",
   "execution_count": null,
   "metadata": {},
   "outputs": [],
   "source": []
  },
  {
   "cell_type": "code",
   "execution_count": null,
   "metadata": {},
   "outputs": [],
   "source": []
  },
  {
   "attachments": {},
   "cell_type": "markdown",
   "metadata": {},
   "source": [
    "---\n",
    "- Matrice de correlation sans triangle inferieur"
   ]
  },
  {
   "cell_type": "code",
   "execution_count": null,
   "metadata": {},
   "outputs": [],
   "source": []
  },
  {
   "cell_type": "code",
   "execution_count": null,
   "metadata": {},
   "outputs": [],
   "source": []
  },
  {
   "attachments": {},
   "cell_type": "markdown",
   "metadata": {},
   "source": [
    "---\n",
    "- clustermap(z_score, metric)"
   ]
  },
  {
   "cell_type": "code",
   "execution_count": null,
   "metadata": {},
   "outputs": [],
   "source": [
    "sns.clustermap(\n",
    "                titanic.select_dtypes(['number']).corr(),\n",
    "                figsize =(10, 4), \n",
    "                cmap = 'coolwarm', \n",
    "                annot = True,\n",
    "                annot_kws = {'fontsize': 12},\n",
    "                vmin = -1,\n",
    "                vmax = 1,\n",
    "                lw = .2,\n",
    "                row_cluster = False,\n",
    "                dendrogram_ratio = (.1, .2),\n",
    "                cbar_pos = (0, .2, .03, .4)\n",
    ")\n",
    "plt.savefig('clustermap.png')\n",
    "plt.show()"
   ]
  },
  {
   "attachments": {},
   "cell_type": "markdown",
   "metadata": {},
   "source": [
    "---\n",
    "- catplot\n",
    "  - box\n",
    "  - cat"
   ]
  },
  {
   "cell_type": "code",
   "execution_count": null,
   "metadata": {},
   "outputs": [],
   "source": [
    "sns.catplot(x = 'day', y = 'total_bill', hue = 'time', data = tips, kind = 'box');"
   ]
  },
  {
   "cell_type": "code",
   "execution_count": null,
   "metadata": {},
   "outputs": [],
   "source": [
    "sns.catplot(x = 'sex', y = 'age', kind = 'bar',data = titanic);"
   ]
  },
  {
   "cell_type": "code",
   "execution_count": null,
   "metadata": {},
   "outputs": [],
   "source": [
    "sns.catplot(x = 'day', y = 'total_bill', hue = 'smoker', data = tips, kind = 'strip');"
   ]
  },
  {
   "cell_type": "code",
   "execution_count": null,
   "metadata": {},
   "outputs": [],
   "source": [
    "sns.catplot(x = 'day', y = 'total_bill', hue = 'sex', data = tips, kind = 'box');"
   ]
  },
  {
   "attachments": {},
   "cell_type": "markdown",
   "metadata": {},
   "source": [
    "---\n",
    "- countplot"
   ]
  },
  {
   "cell_type": "code",
   "execution_count": null,
   "metadata": {},
   "outputs": [],
   "source": [
    "sns.countplot(x = 'survived', hue = 'pclass', data = titanic);"
   ]
  },
  {
   "cell_type": "code",
   "execution_count": null,
   "metadata": {},
   "outputs": [],
   "source": [
    "sns.countplot(x = 'survived', hue = 'sex', data = titanic);"
   ]
  },
  {
   "cell_type": "code",
   "execution_count": null,
   "metadata": {},
   "outputs": [],
   "source": [
    "sns.countplot(x = 'survived', hue = 'adult_male', data = titanic);"
   ]
  },
  {
   "cell_type": "code",
   "execution_count": null,
   "metadata": {},
   "outputs": [],
   "source": [
    "sns.countplot(x = 'sex', hue = 'alone', data = titanic);"
   ]
  },
  {
   "attachments": {},
   "cell_type": "markdown",
   "metadata": {},
   "source": [
    "---\n",
    "- scatterplot"
   ]
  },
  {
   "cell_type": "code",
   "execution_count": null,
   "metadata": {},
   "outputs": [],
   "source": [
    "sns.scatterplot(x = 'age', y = 'fare', data = titanic);"
   ]
  },
  {
   "cell_type": "code",
   "execution_count": null,
   "metadata": {},
   "outputs": [],
   "source": [
    "sns.scatterplot(x = 'age', y = 'fare', hue='sex', data = titanic);"
   ]
  },
  {
   "cell_type": "code",
   "execution_count": null,
   "metadata": {},
   "outputs": [],
   "source": [
    "sns.FacetGrid(tips).map(sns.scatterplot, \"total_bill\", \"tip\");"
   ]
  },
  {
   "cell_type": "code",
   "execution_count": null,
   "metadata": {},
   "outputs": [],
   "source": [
    "sns.scatterplot(data = tips, x = \"total_bill\", y = \"tip\", );"
   ]
  },
  {
   "cell_type": "code",
   "execution_count": null,
   "metadata": {},
   "outputs": [],
   "source": [
    "sns.FacetGrid(tips, col=\"time\",  row=\"sex\").map(sns.scatterplot, \"total_bill\", \"tip\");"
   ]
  },
  {
   "cell_type": "code",
   "execution_count": null,
   "metadata": {},
   "outputs": [],
   "source": [
    "g = sns.FacetGrid(tips, col = \"time\", hue = \"sex\")\n",
    "g.map_dataframe(sns.scatterplot, x = \"total_bill\", y = \"tip\")\n",
    "g.add_legend();"
   ]
  },
  {
   "cell_type": "code",
   "execution_count": null,
   "metadata": {},
   "outputs": [],
   "source": [
    "titanic.head()"
   ]
  },
  {
   "cell_type": "code",
   "execution_count": null,
   "metadata": {},
   "outputs": [],
   "source": [
    "sns.scatterplot(data = titanic, x = \"age\", y = \"fare\", hue = 'sex');"
   ]
  },
  {
   "cell_type": "code",
   "execution_count": null,
   "metadata": {},
   "outputs": [],
   "source": [
    "# sns.scatterplot(data = titanic, x = \"age\", y = \"fare\", hue = 'sex');\n",
    "sns.FacetGrid(titanic, col=\"class\", hue = 'sex').map(sns.scatterplot, \"age\", \"fare\").add_legend()\n",
    "plt.savefig('scatterplot.png')"
   ]
  },
  {
   "attachments": {},
   "cell_type": "markdown",
   "metadata": {},
   "source": [
    "---\n",
    "- Generalisation\n",
    "   - creer ses propres graphiques\n"
   ]
  },
  {
   "cell_type": "code",
   "execution_count": null,
   "metadata": {},
   "outputs": [],
   "source": [
    "numcols = titanic.select_dtypes('number')\n",
    "fig, ax = plt.subplots(2,4,figsize = (12,8))\n",
    "k = 0\n",
    "ax = ax.flatten()\n",
    "for col in numcols:\n",
    "    sns.boxplot(y = col, data = titanic, color = 'C4', ax = ax[k])\n",
    "    k += 1\n",
    "    plt.tight_layout(pad = 0.5, w_pad = 1, h_pad = 2.0)"
   ]
  },
  {
   "cell_type": "code",
   "execution_count": null,
   "metadata": {},
   "outputs": [],
   "source": [
    "fig, ax = plt.subplots(ncols = 3, nrows = 3, figsize = (10, 10))\n",
    "ax = ax.flatten()\n",
    "i = 0\n",
    "for col, value in tips.select_dtypes('number').items():\n",
    "    sns.boxplot(x = 'day', y = col, ax = ax[i], hue = 'time', data = tips)\n",
    "    i += 1\n",
    "plt.tight_layout(pad = .1, w_pad = .2, h_pad = .2)"
   ]
  },
  {
   "cell_type": "code",
   "execution_count": null,
   "metadata": {},
   "outputs": [],
   "source": [
    "fig, ax = plt.subplots(ncols = 4, nrows = 2, figsize = (18, 10))\n",
    "ax = ax.flatten()\n",
    "i = 0\n",
    "for col, value in tips.select_dtypes('number').items():\n",
    "    sns.histplot(value, ax = ax[i])\n",
    "    i += 1\n",
    "plt.tight_layout(pad = .5, w_pad = .7, h_pad = 5)"
   ]
  },
  {
   "cell_type": "code",
   "execution_count": null,
   "metadata": {},
   "outputs": [],
   "source": [
    "\n",
    "sns.FacetGrid(tips, col = 'day').map(sns.histplot, 'total_bill').add_legend()"
   ]
  },
  {
   "cell_type": "code",
   "execution_count": null,
   "metadata": {},
   "outputs": [],
   "source": [
    "\n",
    "sns.FacetGrid(tips, col = 'day', hue = 'sex').map(sns.histplot, 'total_bill').add_legend()\n",
    "plt.savefig('hist2.png')"
   ]
  },
  {
   "cell_type": "code",
   "execution_count": null,
   "metadata": {},
   "outputs": [],
   "source": [
    "fg = sns.FacetGrid(tips, col = 'day', hue = 'sex')\n",
    "fg.map(sns.histplot, 'total_bill', kde = True).add_legend()\n",
    "# fg.set_titles('fffff')\n",
    "# fg.set(ylim = (0, 50))\n",
    "plt.show() "
   ]
  },
  {
   "cell_type": "code",
   "execution_count": null,
   "metadata": {},
   "outputs": [],
   "source": [
    "plt.figure(figsize=(12, 8))\n",
    "for col in enumerate(penguins.select_dtypes(include = ['float64'])):\n",
    "    plt.subplot(3, 3, col[0] + 1)\n",
    "    sns.histplot(x = col[1], data = penguins)\n",
    "plt.show() "
   ]
  },
  {
   "cell_type": "code",
   "execution_count": null,
   "metadata": {},
   "outputs": [],
   "source": [
    "plt.figure(figsize=(12, 8))\n",
    "for col in enumerate(penguins.select_dtypes(include = ['float64'])):\n",
    "    plt.subplot(3, 3, col[0] + 1)\n",
    "    sns.boxplot(x = col[1], data = penguins)\n",
    "plt.show() "
   ]
  }
 ],
 "metadata": {
  "kernelspec": {
   "display_name": "Python 3",
   "language": "python",
   "name": "python3"
  },
  "language_info": {
   "codemirror_mode": {
    "name": "ipython",
    "version": 3
   },
   "file_extension": ".py",
   "mimetype": "text/x-python",
   "name": "python",
   "nbconvert_exporter": "python",
   "pygments_lexer": "ipython3",
   "version": "3.10.6"
  },
  "orig_nbformat": 4,
  "vscode": {
   "interpreter": {
    "hash": "916dbcbb3f70747c44a77c7bcd40155683ae19c65e1c03b4aa3499c5328201f1"
   }
  }
 },
 "nbformat": 4,
 "nbformat_minor": 2
}
