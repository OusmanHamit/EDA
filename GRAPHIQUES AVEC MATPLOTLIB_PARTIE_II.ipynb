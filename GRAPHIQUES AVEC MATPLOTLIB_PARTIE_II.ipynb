{
 "cells": [
  {
   "cell_type": "markdown",
   "metadata": {},
   "source": [
    "![](part2.png)"
   ]
  },
  {
   "cell_type": "markdown",
   "metadata": {},
   "source": [
    "**CODE SOURCE + MEDIAS SOCIAUX** \n",
    "\n",
    "Vidéo associée à ce notebook: https://youtu.be/YilPnppyaoY\n",
    "\n",
    "Profile linkedin: https://www.linkedin.com/in/ousman-hamit-hassani/\n",
    "\n",
    "Groupe facebook : https://www.facebook.com/groups/openclass4all/\n",
    "\n",
    "Instagram : https://www.instagram.com/openclass4all/\n",
    "\n",
    "Page d’entreprise : https://www.linkedin.com/company/openclass4all/\n",
    "\n",
    "Github : https://www.github.com/ousmanhamit/\n",
    "\n",
    "Merci d’ajouter une étoile à mon profil github si vous pensez que le travail que je fais est utile."
   ]
  },
  {
   "cell_type": "code",
   "execution_count": 2,
   "metadata": {},
   "outputs": [],
   "source": [
    "%matplotlib inline\n",
    "from matplotlib import pyplot as plt\n",
    "from mpl_toolkits.mplot3d import Axes3D\n",
    "import numpy as np "
   ]
  },
  {
   "cell_type": "code",
   "execution_count": null,
   "metadata": {},
   "outputs": [],
   "source": [
    "x = np.linspace(-3,3,30)\n",
    "y = np.linspace(-3,3,30)\n",
    "\n",
    "def f(x,y):\n",
    "    return np.cos(x)*np.sin(y)\n",
    "    \n",
    "X,Y = np.meshgrid(x,y)   \n",
    "\n",
    "F = f(X,Y)\n",
    "\n",
    "plt.style.use('dark_background')\n",
    "\n",
    "\n",
    "fig = plt.figure(figsize = (12, 6))\n",
    "ax = plt.axes(projection = '3d')\n",
    "colorbar = ax.plot_surface(X,Y,F, cmap = 'viridis')\n",
    "plt.colorbar(colorbar, shrink = .5, aspect = 5)\n",
    "ax.set_xlabel('AXE X')\n",
    "ax.set_ylabel('AXE Y')\n",
    "ax.set_zlabel('AXE Z')\n",
    "plt.show()"
   ]
  }
 ],
 "metadata": {
  "kernelspec": {
   "display_name": "Python 3 (ipykernel)",
   "language": "python",
   "name": "python3"
  },
  "language_info": {
   "codemirror_mode": {
    "name": "ipython",
    "version": 3
   },
   "file_extension": ".py",
   "mimetype": "text/x-python",
   "name": "python",
   "nbconvert_exporter": "python",
   "pygments_lexer": "ipython3",
   "version": "3.10.6"
  },
  "vscode": {
   "interpreter": {
    "hash": "767d51c1340bd893661ea55ea3124f6de3c7a262a8b4abca0554b478b1e2ff90"
   }
  }
 },
 "nbformat": 4,
 "nbformat_minor": 2
}
