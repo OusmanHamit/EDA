{
 "cells": [
  {
   "cell_type": "code",
   "execution_count": 1,
   "metadata": {},
   "outputs": [],
   "source": [
    "import pandas as pd \n",
    "import seaborn as sns\n",
    "from matplotlib import pyplot as plt\n",
    "from sklearn.compose import make_column_transformer\n",
    "from sklearn.impute import SimpleImputer\n",
    "from sklearn.pipeline import make_pipeline\n",
    "from sklearn.preprocessing import RobustScaler, OneHotEncoder\n",
    "from sklearn.model_selection import train_test_split \n",
    "# from sklearn.linear_model import LogisticRegression"
   ]
  },
  {
   "cell_type": "code",
   "execution_count": null,
   "metadata": {},
   "outputs": [],
   "source": [
    "sns.set()"
   ]
  },
  {
   "cell_type": "code",
   "execution_count": null,
   "metadata": {},
   "outputs": [],
   "source": [
    "df = sns.load_dataset('titanic')  "
   ]
  },
  {
   "cell_type": "code",
   "execution_count": null,
   "metadata": {},
   "outputs": [],
   "source": [
    "class DataPreprocessing:\n",
    "    \n",
    "    def __init__(self, df):\n",
    "        self.df = df\n",
    "    \n",
    "    def numericalFeatures(self):\n",
    "        return df.select_dtypes(include = ['number']).head()\n",
    "    \n",
    "    def categoricalFeatures(self):\n",
    "        return df.select_dtypes(include = ['object']).head()\n",
    "    \n",
    "    def showMissingValues(self):\n",
    "        plt.figure(figsize = (12, 4))\n",
    "        sns.heatmap(df.isnull(), cmap= \"viridis\", cbar = False, yticklabels = False)\n",
    "        plt.show()\n",
    "\n",
    "    def detectOutliers(self, nbline = 2, nbcolumn = 3):\n",
    "        plt.figure(figsize=(13.5, 4))\n",
    "        for col in enumerate(df.select_dtypes(include = ['int64', 'float64'])):\n",
    "            plt.subplot(nbline, nbcolumn, col[0] + 1)\n",
    "            sns.boxplot(y = col[1], data = df)\n",
    "        plt.show()  \n",
    "        \n",
    "    def correlationMatrix(self):\n",
    "        plt.figure(figsize=(14, 5))\n",
    "        sns.heatmap(df.select_dtypes(['number']).corr().round(2), \n",
    "                    annot = True, \n",
    "                    cmap = 'coolwarm', \n",
    "                    cbar = True, \n",
    "                    annot_kws = {'fontsize': 10},\n",
    "                    vmin = -1,\n",
    "                    vmax = 1,\n",
    "                    lw = .4,\n",
    "                    # mask = np.triu(np.ones_like(df.select_dtypes(['number']).corr()))\n",
    "                    )\n",
    "        plt.title(\"Matrice de correlation\")\n",
    "        plt.show()\n",
    "    \n",
    "    def clusterMap(df):\n",
    "        sns.clustermap(\n",
    "                df.select_dtypes(['number']).corr(),\n",
    "                figsize =(10, 4), \n",
    "                cmap = 'coolwarm', \n",
    "                annot = True,\n",
    "                annot_kws = {'fontsize': 12},\n",
    "                vmin = -1,\n",
    "                vmax = 1,\n",
    "                lw = .2,\n",
    "                row_cluster = False,\n",
    "                dendrogram_ratio = (.1, .2),\n",
    "                cbar_pos = (0, .2, .03, .4)\n",
    "            )\n",
    "        plt.savefig('clustermap.png')\n",
    "        plt.show()  \n",
    "        \n",
    "    def preprocessing(df):\n",
    "        y = df.survived\n",
    "        X = df.drop(['survived',\n",
    "                'embarked',\n",
    "                'class',\n",
    "                'who',\n",
    "                'adult_male',\n",
    "                'alive'], axis = 'columns')\n",
    "        \n",
    "        Xtrain, Xtest, ytrain, ytest = train_test_split(X,\n",
    "                                                        y,\n",
    "                                                        test_size = .2,\n",
    "                                                        random_state = 0)\n",
    "        \n",
    "        num_cols = Xtrain.select_dtypes(include = ['int64','float64']).columns\n",
    "        cat_cols = Xtrain.select_dtypes(include = 'object').columns \n",
    "    \n",
    "        num_pipeline = make_pipeline(\n",
    "                                SimpleImputer(strategy = 'median'),\n",
    "                                RobustScaler(),\n",
    "                                )\n",
    "\n",
    "        cat_pipeline = make_pipeline(\n",
    "                        SimpleImputer(strategy = 'most_frequent'),\n",
    "                        OneHotEncoder(handle_unknown = 'ignore', drop = 'if_binary')\n",
    "                        )\n",
    "        full_pipeline = make_column_transformer(\n",
    "                                (num_pipeline, num_cols),\n",
    "                                (cat_pipeline, cat_cols)\n",
    "                                )  \n",
    "        return make_pipeline(full_pipeline, None).fit(Xtrain, ytrain)           "
   ]
  },
  {
   "cell_type": "code",
   "execution_count": null,
   "metadata": {},
   "outputs": [],
   "source": [
    "processor = DataPreprocessing(df)"
   ]
  },
  {
   "cell_type": "code",
   "execution_count": null,
   "metadata": {},
   "outputs": [],
   "source": [
    "processor.showMissingValues()"
   ]
  },
  {
   "cell_type": "code",
   "execution_count": null,
   "metadata": {},
   "outputs": [],
   "source": [
    "processor.detectOutliers()\n"
   ]
  },
  {
   "cell_type": "code",
   "execution_count": null,
   "metadata": {},
   "outputs": [],
   "source": [
    "processor.correlationMatrix()"
   ]
  },
  {
   "cell_type": "code",
   "execution_count": null,
   "metadata": {},
   "outputs": [],
   "source": [
    "processor.numericalFeatures()"
   ]
  },
  {
   "cell_type": "code",
   "execution_count": null,
   "metadata": {},
   "outputs": [],
   "source": [
    "processor.categoricalFeatures()"
   ]
  }
 ],
 "metadata": {
  "kernelspec": {
   "display_name": "Python 3",
   "language": "python",
   "name": "python3"
  },
  "language_info": {
   "codemirror_mode": {
    "name": "ipython",
    "version": 3
   },
   "file_extension": ".py",
   "mimetype": "text/x-python",
   "name": "python",
   "nbconvert_exporter": "python",
   "pygments_lexer": "ipython3",
   "version": "3.10.6"
  },
  "orig_nbformat": 4
 },
 "nbformat": 4,
 "nbformat_minor": 2
}
